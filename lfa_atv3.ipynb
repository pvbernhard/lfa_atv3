{
  "nbformat": 4,
  "nbformat_minor": 0,
  "metadata": {
    "colab": {
      "name": "lfa_atv3.ipynb",
      "provenance": []
    },
    "kernelspec": {
      "name": "python3",
      "display_name": "Python 3"
    },
    "language_info": {
      "name": "python"
    }
  },
  "cells": [
    {
      "cell_type": "code",
      "metadata": {
        "id": "E4DCc7e49zqZ"
      },
      "source": [
        "from typing import Optional, Dict, Any\n",
        "\n",
        "\n",
        "class Estado:  \n",
        "  def configura(self, estados_possiveis: Dict[str, Any]) -> None:\n",
        "    self.estados_possiveis = estados_possiveis\n",
        "  \n",
        "  def proximo(self, caractere: str) -> Optional[Any]:\n",
        "    if caractere in self.estados_possiveis:\n",
        "      return self.estados_possiveis[caractere]\n",
        "    else:\n",
        "      return None\n",
        "\n",
        "class MaquinaEstados:\n",
        "  def __init__(self, estado_inicial: Estado, estado_final: Estado):\n",
        "    self.estado_inicial = estado_inicial\n",
        "    self.estado_final = estado_final\n",
        "  \n",
        "  def ler(self, palavra: str) -> bool:\n",
        "    estado = self.estado_inicial\n",
        "    for c in palavra:\n",
        "      estado = estado.proximo(c)\n",
        "      if estado is None:\n",
        "        return False\n",
        "    if estado == self.estado_final:\n",
        "      return True\n",
        "    else:\n",
        "      return False"
      ],
      "execution_count": 1,
      "outputs": []
    },
    {
      "cell_type": "code",
      "metadata": {
        "id": "39UIFxxx9-QB"
      },
      "source": [
        "estado_0 = Estado()\n",
        "estado_1 = Estado()\n",
        "estado_2 = Estado()\n",
        "\n",
        "estado_0.configura({'a': estado_0, 'b': estado_1})\n",
        "estado_1.configura({'b': estado_2})\n",
        "estado_2.configura({'c': estado_1})\n",
        "\n",
        "maquina_estados = MaquinaEstados(estado_inicial=estado_0, estado_final=estado_2)"
      ],
      "execution_count": 2,
      "outputs": []
    },
    {
      "cell_type": "code",
      "metadata": {
        "colab": {
          "base_uri": "https://localhost:8080/"
        },
        "id": "OuXXdyMD97-g",
        "outputId": "e724fd2d-ded6-44dd-9150-4ee07957f0f1"
      },
      "source": [
        "while(True):\n",
        "    palavra = input('Digite uma palavra:')\n",
        "    if palavra == '':\n",
        "      break\n",
        "    resultado = maquina_estados.ler(palavra)\n",
        "    if resultado:\n",
        "        print('aceita')\n",
        "    else:\n",
        "        print('rejeita')\n",
        "    print()\n",
        "  "
      ],
      "execution_count": 5,
      "outputs": [
        {
          "name": "stdout",
          "output_type": "stream",
          "text": [
            "Digite uma palavra:\n"
          ]
        }
      ]
    }
  ]
}